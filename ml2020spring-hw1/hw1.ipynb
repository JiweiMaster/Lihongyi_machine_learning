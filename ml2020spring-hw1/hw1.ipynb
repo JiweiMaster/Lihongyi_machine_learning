{
 "metadata": {
  "language_info": {
   "codemirror_mode": {
    "name": "ipython",
    "version": 3
   },
   "file_extension": ".py",
   "mimetype": "text/x-python",
   "name": "python",
   "nbconvert_exporter": "python",
   "pygments_lexer": "ipython3",
   "version": "3.8.3-final"
  },
  "orig_nbformat": 2,
  "kernelspec": {
   "name": "Python 3.8.3 64-bit ('base': conda)",
   "display_name": "Python 3.8.3 64-bit ('base': conda)",
   "metadata": {
    "interpreter": {
     "hash": "73e03da126b73bfff3642ec5261d56fa25c444ea595de51041687efaa60dda41"
    }
   }
  }
 },
 "nbformat": 4,
 "nbformat_minor": 2,
 "cells": [
  {
   "cell_type": "code",
   "execution_count": 85,
   "metadata": {},
   "outputs": [
    {
     "output_type": "stream",
     "name": "stdout",
     "text": [
      "原始数据的shape:(4320, 24)\n",
      "x.shape:(5652, 162)\n",
      "y.shape:(5652, 1)\n",
      "(5652, 162)\n",
      "(5652, 163)\n",
      "训练结束！\n"
     ]
    }
   ],
   "source": [
    "import pandas as pd\n",
    "import numpy as np\n",
    "import math\n",
    "\n",
    "x_axis = []\n",
    "loss_array = []\n",
    "\n",
    "train_data = pd.read_csv('train.csv',encoding='big5')\n",
    "# 取行和列的数据\n",
    "data = train_data.iloc[:,3:]\n",
    "data[data == \"NR\"] = 0\n",
    "raw_data = data.to_numpy()\n",
    "# 原始数据的shape:(4320, 24)\n",
    "print('原始数据的shape:'+str(raw_data.shape))\n",
    "\n",
    "#里面有12个月的数据，12*18*480\n",
    "month_data = {}\n",
    "for month in range(12):\n",
    "    sample = np.empty([18,480])\n",
    "    for day in range(20):\n",
    "        # 每次循环需要填充18*24个数据\n",
    "        sample[:,day*24:(day+1)*24] = raw_data[18*(20*month+day):18*(20*month+day+1),:]\n",
    "    month_data[month] = sample\n",
    "\n",
    "# 预处理阶段获取到最终的数据格式\n",
    "# 为什么是471，其实是因为480的小时，每连续的9个小时可以组成一组数据，最后组成的数据就是471组\n",
    "x = np.empty([12*471,18*9],dtype=float)\n",
    "y = np.empty([12*471,1],dtype=float)\n",
    "\n",
    "for month in range(12):\n",
    "    for day in range(20):\n",
    "        for hour in range(24):\n",
    "            if day == 19 and hour > 14:\n",
    "                # 终止处理数据\n",
    "                continue\n",
    "            x[month*471+day*24+hour,:] = month_data[month][:,day*24+hour:day*24+hour+9].reshape(1,-1)\n",
    "            y[month*471+day*24+hour,0] = month_data[month][9,day*24+hour+9]   \n",
    "\n",
    "# 有162=18*9个特征\n",
    "# x.shape:(5652, 162)\n",
    "# y.shape:(5652, 1)                                                                                  \n",
    "print('x.shape:'+str(x.shape))\n",
    "print('y.shape:'+str(y.shape)) \n",
    "\n",
    "# 数据归一化\n",
    "mean_x = np.mean(x,axis=0)\n",
    "std_x = np.mean(x,axis=0)\n",
    "for i in range(len(x)):\n",
    "    for j in range(len(x[0])):\n",
    "        if std_x[j] != 0:\n",
    "            x[i][j] = (x[i][j] - mean_x[j]) / std_x[j]\n",
    "# 一共有18个特征，每个特征在9个小时里面的数据不同，最后一个数输出\n",
    "# 162 + 1\n",
    "\n",
    "# 梯度下降的方法使用adagrad,保留着梯度的平方项进行计算，\n",
    "# loss函数用的平方差损失函数\n",
    "# 定义训练的权重参数\n",
    "dim = 18*9+1 # w+b方法放到了一个参数里面\n",
    "w = np.zeros([dim,1])\n",
    "print(x.shape)\n",
    "x = np.concatenate((np.ones([12*471,1]),x),axis=1).astype(float)\n",
    "print(x.shape)\n",
    "learning_rate = 500\n",
    "iter_time = 5000\n",
    "adagrad = np.zeros([dim,1])\n",
    "eps = 1e-10\n",
    "for t in range(iter_time):\n",
    "    loss = np.sqrt(np.sum(np.power(np.dot(x, w) - y, 2))/471/12)#rmse\n",
    "    if (t%100==0):\n",
    "        # print(str(t)+\":\"+str(loss))\n",
    "        x_axis.append(t)\n",
    "        loss_array.append(loss)\n",
    "    gradient = 2*np.dot(x.transpose(),np.dot(x,w)-y)\n",
    "    adagrad += gradient ** 2\n",
    "    w = w - learning_rate * gradient / np.sqrt(adagrad + eps)\n",
    "np.save('weight.npy', w)\n",
    "print('训练结束！')\n"
   ]
  },
  {
   "cell_type": "code",
   "execution_count": 86,
   "metadata": {
    "tags": []
   },
   "outputs": [
    {
     "output_type": "stream",
     "name": "stdout",
     "text": [
      "[0, 100, 200, 300, 400, 500, 600, 700, 800, 900, 1000, 1100]\n[27.071214829194115, 36.77827526657392, 22.21872252252832, 16.926215576776197, 13.93016345537056, 11.921488442259253, 10.503171555148095, 9.480735595803345, 8.731466453836527, 8.17193152522892, 7.744993447492041, 7.4118436522277555]\n"
     ]
    },
    {
     "output_type": "execute_result",
     "data": {
      "text/plain": [
       "[<matplotlib.lines.Line2D at 0x24690e04160>]"
      ]
     },
     "metadata": {},
     "execution_count": 86
    },
    {
     "output_type": "display_data",
     "data": {
      "text/plain": "<Figure size 432x288 with 1 Axes>",
      "image/svg+xml": "<?xml version=\"1.0\" encoding=\"utf-8\" standalone=\"no\"?>\r\n<!DOCTYPE svg PUBLIC \"-//W3C//DTD SVG 1.1//EN\"\r\n  \"http://www.w3.org/Graphics/SVG/1.1/DTD/svg11.dtd\">\r\n<!-- Created with matplotlib (https://matplotlib.org/) -->\r\n<svg height=\"262.19625pt\" version=\"1.1\" viewBox=\"0 0 386.321446 262.19625\" width=\"386.321446pt\" xmlns=\"http://www.w3.org/2000/svg\" xmlns:xlink=\"http://www.w3.org/1999/xlink\">\r\n <defs>\r\n  <style type=\"text/css\">\r\n*{stroke-linecap:butt;stroke-linejoin:round;}\r\n  </style>\r\n </defs>\r\n <g id=\"figure_1\">\r\n  <g id=\"patch_1\">\r\n   <path d=\"M 0 262.19625 \r\nL 386.321446 262.19625 \r\nL 386.321446 0 \r\nL 0 0 \r\nz\r\n\" style=\"fill:none;\"/>\r\n  </g>\r\n  <g id=\"axes_1\">\r\n   <g id=\"patch_2\">\r\n    <path d=\"M 40.603125 224.64 \r\nL 375.403125 224.64 \r\nL 375.403125 7.2 \r\nL 40.603125 7.2 \r\nz\r\n\" style=\"fill:#ffffff;\"/>\r\n   </g>\r\n   <g id=\"matplotlib.axis_1\">\r\n    <g id=\"xtick_1\">\r\n     <g id=\"line2d_1\">\r\n      <defs>\r\n       <path d=\"M 0 0 \r\nL 0 3.5 \r\n\" id=\"m172bd8aeaa\" style=\"stroke:#000000;stroke-width:0.8;\"/>\r\n      </defs>\r\n      <g>\r\n       <use style=\"stroke:#000000;stroke-width:0.8;\" x=\"55.821307\" xlink:href=\"#m172bd8aeaa\" y=\"224.64\"/>\r\n      </g>\r\n     </g>\r\n     <g id=\"text_1\">\r\n      <!-- 0 -->\r\n      <defs>\r\n       <path d=\"M 31.78125 66.40625 \r\nQ 24.171875 66.40625 20.328125 58.90625 \r\nQ 16.5 51.421875 16.5 36.375 \r\nQ 16.5 21.390625 20.328125 13.890625 \r\nQ 24.171875 6.390625 31.78125 6.390625 \r\nQ 39.453125 6.390625 43.28125 13.890625 \r\nQ 47.125 21.390625 47.125 36.375 \r\nQ 47.125 51.421875 43.28125 58.90625 \r\nQ 39.453125 66.40625 31.78125 66.40625 \r\nz\r\nM 31.78125 74.21875 \r\nQ 44.046875 74.21875 50.515625 64.515625 \r\nQ 56.984375 54.828125 56.984375 36.375 \r\nQ 56.984375 17.96875 50.515625 8.265625 \r\nQ 44.046875 -1.421875 31.78125 -1.421875 \r\nQ 19.53125 -1.421875 13.0625 8.265625 \r\nQ 6.59375 17.96875 6.59375 36.375 \r\nQ 6.59375 54.828125 13.0625 64.515625 \r\nQ 19.53125 74.21875 31.78125 74.21875 \r\nz\r\n\" id=\"DejaVuSans-48\"/>\r\n      </defs>\r\n      <g transform=\"translate(52.640057 239.238437)scale(0.1 -0.1)\">\r\n       <use xlink:href=\"#DejaVuSans-48\"/>\r\n      </g>\r\n     </g>\r\n    </g>\r\n    <g id=\"xtick_2\">\r\n     <g id=\"line2d_2\">\r\n      <g>\r\n       <use style=\"stroke:#000000;stroke-width:0.8;\" x=\"117.936335\" xlink:href=\"#m172bd8aeaa\" y=\"224.64\"/>\r\n      </g>\r\n     </g>\r\n     <g id=\"text_2\">\r\n      <!-- 1000 -->\r\n      <defs>\r\n       <path d=\"M 12.40625 8.296875 \r\nL 28.515625 8.296875 \r\nL 28.515625 63.921875 \r\nL 10.984375 60.40625 \r\nL 10.984375 69.390625 \r\nL 28.421875 72.90625 \r\nL 38.28125 72.90625 \r\nL 38.28125 8.296875 \r\nL 54.390625 8.296875 \r\nL 54.390625 0 \r\nL 12.40625 0 \r\nz\r\n\" id=\"DejaVuSans-49\"/>\r\n      </defs>\r\n      <g transform=\"translate(105.211335 239.238437)scale(0.1 -0.1)\">\r\n       <use xlink:href=\"#DejaVuSans-49\"/>\r\n       <use x=\"63.623047\" xlink:href=\"#DejaVuSans-48\"/>\r\n       <use x=\"127.246094\" xlink:href=\"#DejaVuSans-48\"/>\r\n       <use x=\"190.869141\" xlink:href=\"#DejaVuSans-48\"/>\r\n      </g>\r\n     </g>\r\n    </g>\r\n    <g id=\"xtick_3\">\r\n     <g id=\"line2d_3\">\r\n      <g>\r\n       <use style=\"stroke:#000000;stroke-width:0.8;\" x=\"180.051362\" xlink:href=\"#m172bd8aeaa\" y=\"224.64\"/>\r\n      </g>\r\n     </g>\r\n     <g id=\"text_3\">\r\n      <!-- 2000 -->\r\n      <defs>\r\n       <path d=\"M 19.1875 8.296875 \r\nL 53.609375 8.296875 \r\nL 53.609375 0 \r\nL 7.328125 0 \r\nL 7.328125 8.296875 \r\nQ 12.9375 14.109375 22.625 23.890625 \r\nQ 32.328125 33.6875 34.8125 36.53125 \r\nQ 39.546875 41.84375 41.421875 45.53125 \r\nQ 43.3125 49.21875 43.3125 52.78125 \r\nQ 43.3125 58.59375 39.234375 62.25 \r\nQ 35.15625 65.921875 28.609375 65.921875 \r\nQ 23.96875 65.921875 18.8125 64.3125 \r\nQ 13.671875 62.703125 7.8125 59.421875 \r\nL 7.8125 69.390625 \r\nQ 13.765625 71.78125 18.9375 73 \r\nQ 24.125 74.21875 28.421875 74.21875 \r\nQ 39.75 74.21875 46.484375 68.546875 \r\nQ 53.21875 62.890625 53.21875 53.421875 \r\nQ 53.21875 48.921875 51.53125 44.890625 \r\nQ 49.859375 40.875 45.40625 35.40625 \r\nQ 44.1875 33.984375 37.640625 27.21875 \r\nQ 31.109375 20.453125 19.1875 8.296875 \r\nz\r\n\" id=\"DejaVuSans-50\"/>\r\n      </defs>\r\n      <g transform=\"translate(167.326362 239.238437)scale(0.1 -0.1)\">\r\n       <use xlink:href=\"#DejaVuSans-50\"/>\r\n       <use x=\"63.623047\" xlink:href=\"#DejaVuSans-48\"/>\r\n       <use x=\"127.246094\" xlink:href=\"#DejaVuSans-48\"/>\r\n       <use x=\"190.869141\" xlink:href=\"#DejaVuSans-48\"/>\r\n      </g>\r\n     </g>\r\n    </g>\r\n    <g id=\"xtick_4\">\r\n     <g id=\"line2d_4\">\r\n      <g>\r\n       <use style=\"stroke:#000000;stroke-width:0.8;\" x=\"242.16639\" xlink:href=\"#m172bd8aeaa\" y=\"224.64\"/>\r\n      </g>\r\n     </g>\r\n     <g id=\"text_4\">\r\n      <!-- 3000 -->\r\n      <defs>\r\n       <path d=\"M 40.578125 39.3125 \r\nQ 47.65625 37.796875 51.625 33 \r\nQ 55.609375 28.21875 55.609375 21.1875 \r\nQ 55.609375 10.40625 48.1875 4.484375 \r\nQ 40.765625 -1.421875 27.09375 -1.421875 \r\nQ 22.515625 -1.421875 17.65625 -0.515625 \r\nQ 12.796875 0.390625 7.625 2.203125 \r\nL 7.625 11.71875 \r\nQ 11.71875 9.328125 16.59375 8.109375 \r\nQ 21.484375 6.890625 26.8125 6.890625 \r\nQ 36.078125 6.890625 40.9375 10.546875 \r\nQ 45.796875 14.203125 45.796875 21.1875 \r\nQ 45.796875 27.640625 41.28125 31.265625 \r\nQ 36.765625 34.90625 28.71875 34.90625 \r\nL 20.21875 34.90625 \r\nL 20.21875 43.015625 \r\nL 29.109375 43.015625 \r\nQ 36.375 43.015625 40.234375 45.921875 \r\nQ 44.09375 48.828125 44.09375 54.296875 \r\nQ 44.09375 59.90625 40.109375 62.90625 \r\nQ 36.140625 65.921875 28.71875 65.921875 \r\nQ 24.65625 65.921875 20.015625 65.03125 \r\nQ 15.375 64.15625 9.8125 62.3125 \r\nL 9.8125 71.09375 \r\nQ 15.4375 72.65625 20.34375 73.4375 \r\nQ 25.25 74.21875 29.59375 74.21875 \r\nQ 40.828125 74.21875 47.359375 69.109375 \r\nQ 53.90625 64.015625 53.90625 55.328125 \r\nQ 53.90625 49.265625 50.4375 45.09375 \r\nQ 46.96875 40.921875 40.578125 39.3125 \r\nz\r\n\" id=\"DejaVuSans-51\"/>\r\n      </defs>\r\n      <g transform=\"translate(229.44139 239.238437)scale(0.1 -0.1)\">\r\n       <use xlink:href=\"#DejaVuSans-51\"/>\r\n       <use x=\"63.623047\" xlink:href=\"#DejaVuSans-48\"/>\r\n       <use x=\"127.246094\" xlink:href=\"#DejaVuSans-48\"/>\r\n       <use x=\"190.869141\" xlink:href=\"#DejaVuSans-48\"/>\r\n      </g>\r\n     </g>\r\n    </g>\r\n    <g id=\"xtick_5\">\r\n     <g id=\"line2d_5\">\r\n      <g>\r\n       <use style=\"stroke:#000000;stroke-width:0.8;\" x=\"304.281418\" xlink:href=\"#m172bd8aeaa\" y=\"224.64\"/>\r\n      </g>\r\n     </g>\r\n     <g id=\"text_5\">\r\n      <!-- 4000 -->\r\n      <defs>\r\n       <path d=\"M 37.796875 64.3125 \r\nL 12.890625 25.390625 \r\nL 37.796875 25.390625 \r\nz\r\nM 35.203125 72.90625 \r\nL 47.609375 72.90625 \r\nL 47.609375 25.390625 \r\nL 58.015625 25.390625 \r\nL 58.015625 17.1875 \r\nL 47.609375 17.1875 \r\nL 47.609375 0 \r\nL 37.796875 0 \r\nL 37.796875 17.1875 \r\nL 4.890625 17.1875 \r\nL 4.890625 26.703125 \r\nz\r\n\" id=\"DejaVuSans-52\"/>\r\n      </defs>\r\n      <g transform=\"translate(291.556418 239.238437)scale(0.1 -0.1)\">\r\n       <use xlink:href=\"#DejaVuSans-52\"/>\r\n       <use x=\"63.623047\" xlink:href=\"#DejaVuSans-48\"/>\r\n       <use x=\"127.246094\" xlink:href=\"#DejaVuSans-48\"/>\r\n       <use x=\"190.869141\" xlink:href=\"#DejaVuSans-48\"/>\r\n      </g>\r\n     </g>\r\n    </g>\r\n    <g id=\"xtick_6\">\r\n     <g id=\"line2d_6\">\r\n      <g>\r\n       <use style=\"stroke:#000000;stroke-width:0.8;\" x=\"366.396446\" xlink:href=\"#m172bd8aeaa\" y=\"224.64\"/>\r\n      </g>\r\n     </g>\r\n     <g id=\"text_6\">\r\n      <!-- 5000 -->\r\n      <defs>\r\n       <path d=\"M 10.796875 72.90625 \r\nL 49.515625 72.90625 \r\nL 49.515625 64.59375 \r\nL 19.828125 64.59375 \r\nL 19.828125 46.734375 \r\nQ 21.96875 47.46875 24.109375 47.828125 \r\nQ 26.265625 48.1875 28.421875 48.1875 \r\nQ 40.625 48.1875 47.75 41.5 \r\nQ 54.890625 34.8125 54.890625 23.390625 \r\nQ 54.890625 11.625 47.5625 5.09375 \r\nQ 40.234375 -1.421875 26.90625 -1.421875 \r\nQ 22.3125 -1.421875 17.546875 -0.640625 \r\nQ 12.796875 0.140625 7.71875 1.703125 \r\nL 7.71875 11.625 \r\nQ 12.109375 9.234375 16.796875 8.0625 \r\nQ 21.484375 6.890625 26.703125 6.890625 \r\nQ 35.15625 6.890625 40.078125 11.328125 \r\nQ 45.015625 15.765625 45.015625 23.390625 \r\nQ 45.015625 31 40.078125 35.4375 \r\nQ 35.15625 39.890625 26.703125 39.890625 \r\nQ 22.75 39.890625 18.8125 39.015625 \r\nQ 14.890625 38.140625 10.796875 36.28125 \r\nz\r\n\" id=\"DejaVuSans-53\"/>\r\n      </defs>\r\n      <g transform=\"translate(353.671446 239.238437)scale(0.1 -0.1)\">\r\n       <use xlink:href=\"#DejaVuSans-53\"/>\r\n       <use x=\"63.623047\" xlink:href=\"#DejaVuSans-48\"/>\r\n       <use x=\"127.246094\" xlink:href=\"#DejaVuSans-48\"/>\r\n       <use x=\"190.869141\" xlink:href=\"#DejaVuSans-48\"/>\r\n      </g>\r\n     </g>\r\n    </g>\r\n    <g id=\"text_7\">\r\n     <!-- iter -->\r\n     <defs>\r\n      <path d=\"M 9.421875 54.6875 \r\nL 18.40625 54.6875 \r\nL 18.40625 0 \r\nL 9.421875 0 \r\nz\r\nM 9.421875 75.984375 \r\nL 18.40625 75.984375 \r\nL 18.40625 64.59375 \r\nL 9.421875 64.59375 \r\nz\r\n\" id=\"DejaVuSans-105\"/>\r\n      <path d=\"M 18.3125 70.21875 \r\nL 18.3125 54.6875 \r\nL 36.8125 54.6875 \r\nL 36.8125 47.703125 \r\nL 18.3125 47.703125 \r\nL 18.3125 18.015625 \r\nQ 18.3125 11.328125 20.140625 9.421875 \r\nQ 21.96875 7.515625 27.59375 7.515625 \r\nL 36.8125 7.515625 \r\nL 36.8125 0 \r\nL 27.59375 0 \r\nQ 17.1875 0 13.234375 3.875 \r\nQ 9.28125 7.765625 9.28125 18.015625 \r\nL 9.28125 47.703125 \r\nL 2.6875 47.703125 \r\nL 2.6875 54.6875 \r\nL 9.28125 54.6875 \r\nL 9.28125 70.21875 \r\nz\r\n\" id=\"DejaVuSans-116\"/>\r\n      <path d=\"M 56.203125 29.59375 \r\nL 56.203125 25.203125 \r\nL 14.890625 25.203125 \r\nQ 15.484375 15.921875 20.484375 11.0625 \r\nQ 25.484375 6.203125 34.421875 6.203125 \r\nQ 39.59375 6.203125 44.453125 7.46875 \r\nQ 49.3125 8.734375 54.109375 11.28125 \r\nL 54.109375 2.78125 \r\nQ 49.265625 0.734375 44.1875 -0.34375 \r\nQ 39.109375 -1.421875 33.890625 -1.421875 \r\nQ 20.796875 -1.421875 13.15625 6.1875 \r\nQ 5.515625 13.8125 5.515625 26.8125 \r\nQ 5.515625 40.234375 12.765625 48.109375 \r\nQ 20.015625 56 32.328125 56 \r\nQ 43.359375 56 49.78125 48.890625 \r\nQ 56.203125 41.796875 56.203125 29.59375 \r\nz\r\nM 47.21875 32.234375 \r\nQ 47.125 39.59375 43.09375 43.984375 \r\nQ 39.0625 48.390625 32.421875 48.390625 \r\nQ 24.90625 48.390625 20.390625 44.140625 \r\nQ 15.875 39.890625 15.1875 32.171875 \r\nz\r\n\" id=\"DejaVuSans-101\"/>\r\n      <path d=\"M 41.109375 46.296875 \r\nQ 39.59375 47.171875 37.8125 47.578125 \r\nQ 36.03125 48 33.890625 48 \r\nQ 26.265625 48 22.1875 43.046875 \r\nQ 18.109375 38.09375 18.109375 28.8125 \r\nL 18.109375 0 \r\nL 9.078125 0 \r\nL 9.078125 54.6875 \r\nL 18.109375 54.6875 \r\nL 18.109375 46.1875 \r\nQ 20.953125 51.171875 25.484375 53.578125 \r\nQ 30.03125 56 36.53125 56 \r\nQ 37.453125 56 38.578125 55.875 \r\nQ 39.703125 55.765625 41.0625 55.515625 \r\nz\r\n\" id=\"DejaVuSans-114\"/>\r\n     </defs>\r\n     <g transform=\"translate(199.521875 252.916562)scale(0.1 -0.1)\">\r\n      <use xlink:href=\"#DejaVuSans-105\"/>\r\n      <use x=\"27.783203\" xlink:href=\"#DejaVuSans-116\"/>\r\n      <use x=\"66.992188\" xlink:href=\"#DejaVuSans-101\"/>\r\n      <use x=\"128.515625\" xlink:href=\"#DejaVuSans-114\"/>\r\n     </g>\r\n    </g>\r\n   </g>\r\n   <g id=\"matplotlib.axis_2\">\r\n    <g id=\"ytick_1\">\r\n     <g id=\"line2d_7\">\r\n      <defs>\r\n       <path d=\"M 0 0 \r\nL -3.5 0 \r\n\" id=\"mdb30d87347\" style=\"stroke:#000000;stroke-width:0.8;\"/>\r\n      </defs>\r\n      <g>\r\n       <use style=\"stroke:#000000;stroke-width:0.8;\" x=\"40.603125\" xlink:href=\"#mdb30d87347\" y=\"219.255765\"/>\r\n      </g>\r\n     </g>\r\n     <g id=\"text_8\">\r\n      <!-- 5 -->\r\n      <g transform=\"translate(27.240625 223.054983)scale(0.1 -0.1)\">\r\n       <use xlink:href=\"#DejaVuSans-53\"/>\r\n      </g>\r\n     </g>\r\n    </g>\r\n    <g id=\"ytick_2\">\r\n     <g id=\"line2d_8\">\r\n      <g>\r\n       <use style=\"stroke:#000000;stroke-width:0.8;\" x=\"40.603125\" xlink:href=\"#mdb30d87347\" y=\"187.445963\"/>\r\n      </g>\r\n     </g>\r\n     <g id=\"text_9\">\r\n      <!-- 10 -->\r\n      <g transform=\"translate(20.878125 191.245182)scale(0.1 -0.1)\">\r\n       <use xlink:href=\"#DejaVuSans-49\"/>\r\n       <use x=\"63.623047\" xlink:href=\"#DejaVuSans-48\"/>\r\n      </g>\r\n     </g>\r\n    </g>\r\n    <g id=\"ytick_3\">\r\n     <g id=\"line2d_9\">\r\n      <g>\r\n       <use style=\"stroke:#000000;stroke-width:0.8;\" x=\"40.603125\" xlink:href=\"#mdb30d87347\" y=\"155.636161\"/>\r\n      </g>\r\n     </g>\r\n     <g id=\"text_10\">\r\n      <!-- 15 -->\r\n      <g transform=\"translate(20.878125 159.43538)scale(0.1 -0.1)\">\r\n       <use xlink:href=\"#DejaVuSans-49\"/>\r\n       <use x=\"63.623047\" xlink:href=\"#DejaVuSans-53\"/>\r\n      </g>\r\n     </g>\r\n    </g>\r\n    <g id=\"ytick_4\">\r\n     <g id=\"line2d_10\">\r\n      <g>\r\n       <use style=\"stroke:#000000;stroke-width:0.8;\" x=\"40.603125\" xlink:href=\"#mdb30d87347\" y=\"123.826359\"/>\r\n      </g>\r\n     </g>\r\n     <g id=\"text_11\">\r\n      <!-- 20 -->\r\n      <g transform=\"translate(20.878125 127.625578)scale(0.1 -0.1)\">\r\n       <use xlink:href=\"#DejaVuSans-50\"/>\r\n       <use x=\"63.623047\" xlink:href=\"#DejaVuSans-48\"/>\r\n      </g>\r\n     </g>\r\n    </g>\r\n    <g id=\"ytick_5\">\r\n     <g id=\"line2d_11\">\r\n      <g>\r\n       <use style=\"stroke:#000000;stroke-width:0.8;\" x=\"40.603125\" xlink:href=\"#mdb30d87347\" y=\"92.016557\"/>\r\n      </g>\r\n     </g>\r\n     <g id=\"text_12\">\r\n      <!-- 25 -->\r\n      <g transform=\"translate(20.878125 95.815776)scale(0.1 -0.1)\">\r\n       <use xlink:href=\"#DejaVuSans-50\"/>\r\n       <use x=\"63.623047\" xlink:href=\"#DejaVuSans-53\"/>\r\n      </g>\r\n     </g>\r\n    </g>\r\n    <g id=\"ytick_6\">\r\n     <g id=\"line2d_12\">\r\n      <g>\r\n       <use style=\"stroke:#000000;stroke-width:0.8;\" x=\"40.603125\" xlink:href=\"#mdb30d87347\" y=\"60.206755\"/>\r\n      </g>\r\n     </g>\r\n     <g id=\"text_13\">\r\n      <!-- 30 -->\r\n      <g transform=\"translate(20.878125 64.005974)scale(0.1 -0.1)\">\r\n       <use xlink:href=\"#DejaVuSans-51\"/>\r\n       <use x=\"63.623047\" xlink:href=\"#DejaVuSans-48\"/>\r\n      </g>\r\n     </g>\r\n    </g>\r\n    <g id=\"ytick_7\">\r\n     <g id=\"line2d_13\">\r\n      <g>\r\n       <use style=\"stroke:#000000;stroke-width:0.8;\" x=\"40.603125\" xlink:href=\"#mdb30d87347\" y=\"28.396953\"/>\r\n      </g>\r\n     </g>\r\n     <g id=\"text_14\">\r\n      <!-- 35 -->\r\n      <g transform=\"translate(20.878125 32.196172)scale(0.1 -0.1)\">\r\n       <use xlink:href=\"#DejaVuSans-51\"/>\r\n       <use x=\"63.623047\" xlink:href=\"#DejaVuSans-53\"/>\r\n      </g>\r\n     </g>\r\n    </g>\r\n    <g id=\"text_15\">\r\n     <!-- loss -->\r\n     <defs>\r\n      <path d=\"M 9.421875 75.984375 \r\nL 18.40625 75.984375 \r\nL 18.40625 0 \r\nL 9.421875 0 \r\nz\r\n\" id=\"DejaVuSans-108\"/>\r\n      <path d=\"M 30.609375 48.390625 \r\nQ 23.390625 48.390625 19.1875 42.75 \r\nQ 14.984375 37.109375 14.984375 27.296875 \r\nQ 14.984375 17.484375 19.15625 11.84375 \r\nQ 23.34375 6.203125 30.609375 6.203125 \r\nQ 37.796875 6.203125 41.984375 11.859375 \r\nQ 46.1875 17.53125 46.1875 27.296875 \r\nQ 46.1875 37.015625 41.984375 42.703125 \r\nQ 37.796875 48.390625 30.609375 48.390625 \r\nz\r\nM 30.609375 56 \r\nQ 42.328125 56 49.015625 48.375 \r\nQ 55.71875 40.765625 55.71875 27.296875 \r\nQ 55.71875 13.875 49.015625 6.21875 \r\nQ 42.328125 -1.421875 30.609375 -1.421875 \r\nQ 18.84375 -1.421875 12.171875 6.21875 \r\nQ 5.515625 13.875 5.515625 27.296875 \r\nQ 5.515625 40.765625 12.171875 48.375 \r\nQ 18.84375 56 30.609375 56 \r\nz\r\n\" id=\"DejaVuSans-111\"/>\r\n      <path d=\"M 44.28125 53.078125 \r\nL 44.28125 44.578125 \r\nQ 40.484375 46.53125 36.375 47.5 \r\nQ 32.28125 48.484375 27.875 48.484375 \r\nQ 21.1875 48.484375 17.84375 46.4375 \r\nQ 14.5 44.390625 14.5 40.28125 \r\nQ 14.5 37.15625 16.890625 35.375 \r\nQ 19.28125 33.59375 26.515625 31.984375 \r\nL 29.59375 31.296875 \r\nQ 39.15625 29.25 43.1875 25.515625 \r\nQ 47.21875 21.78125 47.21875 15.09375 \r\nQ 47.21875 7.46875 41.1875 3.015625 \r\nQ 35.15625 -1.421875 24.609375 -1.421875 \r\nQ 20.21875 -1.421875 15.453125 -0.5625 \r\nQ 10.6875 0.296875 5.421875 2 \r\nL 5.421875 11.28125 \r\nQ 10.40625 8.6875 15.234375 7.390625 \r\nQ 20.0625 6.109375 24.8125 6.109375 \r\nQ 31.15625 6.109375 34.5625 8.28125 \r\nQ 37.984375 10.453125 37.984375 14.40625 \r\nQ 37.984375 18.0625 35.515625 20.015625 \r\nQ 33.0625 21.96875 24.703125 23.78125 \r\nL 21.578125 24.515625 \r\nQ 13.234375 26.265625 9.515625 29.90625 \r\nQ 5.8125 33.546875 5.8125 39.890625 \r\nQ 5.8125 47.609375 11.28125 51.796875 \r\nQ 16.75 56 26.8125 56 \r\nQ 31.78125 56 36.171875 55.265625 \r\nQ 40.578125 54.546875 44.28125 53.078125 \r\nz\r\n\" id=\"DejaVuSans-115\"/>\r\n     </defs>\r\n     <g transform=\"translate(14.798438 125.577812)rotate(-90)scale(0.1 -0.1)\">\r\n      <use xlink:href=\"#DejaVuSans-108\"/>\r\n      <use x=\"27.783203\" xlink:href=\"#DejaVuSans-111\"/>\r\n      <use x=\"88.964844\" xlink:href=\"#DejaVuSans-115\"/>\r\n      <use x=\"141.064453\" xlink:href=\"#DejaVuSans-115\"/>\r\n     </g>\r\n    </g>\r\n   </g>\r\n   <g id=\"line2d_14\">\r\n    <path clip-path=\"url(#pd2ac00386b)\" d=\"M 55.821307 78.83957 \r\nL 62.03281 17.083636 \r\nL 68.244312 109.710934 \r\nL 74.455815 143.381654 \r\nL 80.667318 162.442419 \r\nL 86.878821 175.221529 \r\nL 93.090324 184.244805 \r\nL 99.301826 190.749502 \r\nL 105.513329 195.516323 \r\nL 111.724832 199.076062 \r\nL 117.936335 201.792225 \r\nL 124.147837 203.911711 \r\nL 130.35934 205.601198 \r\nL 136.570843 206.973375 \r\nL 142.782346 208.105207 \r\nL 148.993849 209.050229 \r\nL 155.205351 209.846616 \r\nL 161.416854 210.522377 \r\nL 167.628357 211.098688 \r\nL 173.83986 211.592016 \r\nL 180.051362 212.015488 \r\nL 186.262865 212.379777 \r\nL 192.474368 212.693705 \r\nL 198.685871 212.964642 \r\nL 204.897374 213.198801 \r\nL 211.108876 213.401443 \r\nL 217.320379 213.577048 \r\nL 223.531882 213.729434 \r\nL 229.743385 213.861862 \r\nL 235.954888 213.977122 \r\nL 242.16639 214.077601 \r\nL 248.377893 214.165343 \r\nL 254.589396 214.242098 \r\nL 260.800899 214.309368 \r\nL 267.012401 214.368439 \r\nL 273.223904 214.420415 \r\nL 279.435407 214.466243 \r\nL 285.64691 214.506737 \r\nL 291.858413 214.542596 \r\nL 298.069915 214.574422 \r\nL 304.281418 214.602734 \r\nL 310.492921 214.627978 \r\nL 316.704424 214.650539 \r\nL 322.915926 214.67075 \r\nL 329.127429 214.688898 \r\nL 335.338932 214.705234 \r\nL 341.550435 214.719972 \r\nL 347.761938 214.733302 \r\nL 353.97344 214.745385 \r\nL 360.184943 214.756364 \r\n\" style=\"fill:none;stroke:#1f77b4;stroke-linecap:square;stroke-width:1.5;\"/>\r\n   </g>\r\n   <g id=\"patch_3\">\r\n    <path d=\"M 40.603125 224.64 \r\nL 40.603125 7.2 \r\n\" style=\"fill:none;stroke:#000000;stroke-linecap:square;stroke-linejoin:miter;stroke-width:0.8;\"/>\r\n   </g>\r\n   <g id=\"patch_4\">\r\n    <path d=\"M 375.403125 224.64 \r\nL 375.403125 7.2 \r\n\" style=\"fill:none;stroke:#000000;stroke-linecap:square;stroke-linejoin:miter;stroke-width:0.8;\"/>\r\n   </g>\r\n   <g id=\"patch_5\">\r\n    <path d=\"M 40.603125 224.64 \r\nL 375.403125 224.64 \r\n\" style=\"fill:none;stroke:#000000;stroke-linecap:square;stroke-linejoin:miter;stroke-width:0.8;\"/>\r\n   </g>\r\n   <g id=\"patch_6\">\r\n    <path d=\"M 40.603125 7.2 \r\nL 375.403125 7.2 \r\n\" style=\"fill:none;stroke:#000000;stroke-linecap:square;stroke-linejoin:miter;stroke-width:0.8;\"/>\r\n   </g>\r\n  </g>\r\n </g>\r\n <defs>\r\n  <clipPath id=\"pd2ac00386b\">\r\n   <rect height=\"217.44\" width=\"334.8\" x=\"40.603125\" y=\"7.2\"/>\r\n  </clipPath>\r\n </defs>\r\n</svg>\r\n",
      "image/png": "[encoded data removed]"
     },
     "metadata": {
      "needs_background": "light"
     }
    }
   ],
   "source": [
    "import matplotlib.pyplot as plt\n",
    "print(x_axis[:12])\n",
    "print(loss_array[:12])\n",
    "\n",
    "fig,ax = plt.subplots()\n",
    "ax.set_xlabel('iter')\n",
    "ax.set_ylabel('loss')\n",
    "ax.plot(x_axis,loss_array)\n"
   ]
  },
  {
   "cell_type": "code",
   "execution_count": 65,
   "metadata": {},
   "outputs": [],
   "source": [
    "# 预测PM2.5\n",
    "testdata = pd.read_csv('./test.csv', header = None, encoding = 'big5')\n",
    "test_data = testdata.iloc[:, 2:]\n",
    "test_data[test_data == 'NR'] = 0\n",
    "test_data = test_data.to_numpy()\n",
    "test_x = np.empty([240, 18*9], dtype = float)\n",
    "for i in range(240):\n",
    "    test_x[i, :] = test_data[18 * i: 18* (i + 1), :].reshape(1, -1)\n",
    "for i in range(len(test_x)):\n",
    "    for j in range(len(test_x[0])):\n",
    "        if std_x[j] != 0:\n",
    "            test_x[i][j] = (test_x[i][j] - mean_x[j]) / std_x[j]\n",
    "test_x = np.concatenate((np.ones([240, 1]), test_x), axis = 1).astype(float)\n"
   ]
  },
  {
   "cell_type": "code",
   "execution_count": 67,
   "metadata": {},
   "outputs": [],
   "source": [
    "w = np.load('weight.npy')\n",
    "ans_y = np.dot(test_x, w)"
   ]
  },
  {
   "cell_type": "code",
   "execution_count": 68,
   "metadata": {},
   "outputs": [
    {
     "output_type": "stream",
     "name": "stdout",
     "text": [
      "['id', 'value']\n['id_0', 6.5944145339744455]\n['id_1', 18.29966558054451]\n['id_2', 23.289371632850973]\n['id_3', 7.80251168578997]\n['id_4', 27.114960602373703]\n['id_5', 22.12375549963248]\n['id_6', 23.790557872555873]\n['id_7', 30.497068226098833]\n['id_8', 16.985471316930674]\n['id_9', 59.65762674011245]\n['id_10', 11.564409905694033]\n['id_11', 9.470265684003515]\n['id_12', 63.92638661837445]\n['id_13', 53.261429620743684]\n['id_14', 22.098504305701862]\n['id_15', 12.167819185840687]\n['id_16', 32.472909612561736]\n['id_17', 66.5029065318581]\n['id_18', -0.5227090513755757]\n['id_19', 17.220507372739743]\n['id_20', 41.62968788950205]\n['id_21', 72.1087956291079]\n['id_22', 9.414286994315942]\n['id_23', 17.58944935755808]\n['id_24', 14.811186940598258]\n['id_25', 37.67811395255819]\n['id_26', 14.575781989011197]\n['id_27', 69.93377539593055]\n['id_28', 7.196819566877313]\n['id_29', 55.25158677807841]\n['id_30', 24.369660720726735]\n['id_31', 8.498553149113803]\n['id_32', 2.620008531440968]\n['id_33', 18.867302002588886]\n['id_34', 27.8659931942521]\n['id_35', 37.478483244145764]\n['id_36', 43.36747173238195]\n['id_37', 30.002703564217303]\n['id_38', 42.31293030595681]\n['id_39', 35.21408604451008]\n['id_40', 7.91653484422585]\n['id_41', 41.34272538699179]\n['id_42', 30.476711251518516]\n['id_43', 50.87451655042861]\n['id_44', 17.525090812618462]\n['id_45', 35.27657171442755]\n['id_46', 24.66878227038802]\n['id_47', 9.515960018214805]\n['id_48', 26.532250533744893]\n['id_49', 32.19676207662583]\n['id_50', 20.04200309272444]\n['id_51', 8.010852562350134]\n['id_52', 20.65466921546723]\n['id_53', 52.70752895983218]\n['id_54', 16.182065248197212]\n['id_55', 36.494395157930775]\n['id_56', 32.80291224457163]\n['id_57', 20.791404706568816]\n['id_58', 57.51356206650699]\n['id_59', 22.705633830548045]\n['id_60', 14.236392867422195]\n['id_61', 41.497663705871716]\n['id_62', 12.333355618201425]\n['id_63', 48.33402285562105]\n['id_64', 14.075168525179702]\n['id_65', 15.15335811375528]\n['id_66', 14.588540617708528]\n['id_67', -1.0134740994596596]\n['id_68', 43.85635236284064]\n['id_69', 29.163229725554796]\n['id_70', 20.11503067733044]\n['id_71', 41.78297055737027]\n['id_72', 60.87558995959037]\n['id_73', 5.403052846089274]\n['id_74', 16.28050736171574]\n['id_75', 3.689734429811679]\n['id_76', 40.85401467440139]\n['id_77', 14.047233849882577]\n['id_78', 21.73048632212761]\n['id_79', 20.970536975817925]\n['id_80', 23.75409148967304]\n['id_81', 36.316075207560885]\n['id_82', 21.742844196902492]\n['id_83', 92.52866472576899]\n['id_84', 37.27183865727458]\n['id_85', 27.822772343538354]\n['id_86', 22.068477417858595]\n['id_87', 33.75563345458115]\n['id_88', 23.570893881918884]\n['id_89', 19.828556974965387]\n['id_90', 28.48963438724057]\n['id_91', 41.56281429392808]\n['id_92', 4.661521011788174]\n['id_93', 38.79804380613369]\n['id_94', 45.8488376847626]\n['id_95', 16.385002908573597]\n['id_96', 31.77288106332473]\n['id_97', 12.907981472234553]\n['id_98', 23.547988187230235]\n['id_99', 4.483613829408167]\n['id_100', 18.07540393390761]\n['id_101', 26.34802284927067]\n['id_102', 14.055581137403566]\n['id_103', 15.915397469191547]\n['id_104', 23.909748021409698]\n['id_105', 39.69338967408421]\n['id_106', 31.824079349577445]\n['id_107', 6.399098672152654]\n['id_108', 6.111618991849858]\n['id_109', 78.31427666046925]\n['id_110', 48.103186265022536]\n['id_111', 17.124297792693277]\n['id_112', 28.117348042616253]\n['id_113', 15.141860129728265]\n['id_114', 13.45797436259541]\n['id_115', 25.02720093467437]\n['id_116', 26.669974189971544]\n['id_117', 10.150013418505301]\n['id_118', 17.494555808620714]\n['id_119', 19.352836200431142]\n['id_120', 80.38652014982256]\n['id_121', 25.347329062203137]\n['id_122', 37.563328814667685]\n['id_123', 25.26062618469667]\n['id_124', 7.368441999936509]\n['id_125', 38.229543002063245]\n['id_126', 9.03044699258054]\n['id_127', 21.95434676139953]\n['id_128', 29.089195482032157]\n['id_129', 62.720698641430964]\n['id_130', 21.59314207300577]\n['id_131', 23.151279617658435]\n['id_132', 58.73599657097342]\n['id_133', 15.316572250841883]\n['id_134', 14.215572265907994]\n['id_135', 2.6876192854689798]\n['id_136', 12.519428270553343]\n['id_137', 58.59904203590338]\n['id_138', 20.353188035660914]\n['id_139', 5.122536903956867]\n['id_140', 29.026448996047698]\n['id_141', 25.250454889641333]\n['id_142', 45.53306153883428]\n['id_143', 31.034501173223603]\n['id_144', 18.221602202324824]\n['id_145', 26.01190270758312]\n['id_146', 12.221717932547026]\n['id_147', 52.14890916219808]\n['id_148', 23.70979316085381]\n['id_149', 38.65019107499024]\n['id_150', 10.35500971822501]\n['id_151', 8.007539262665286]\n['id_152', 23.703926958254986]\n['id_153', 6.402314883433606]\n['id_154', 15.139840652252724]\n['id_155', 41.35443636267703]\n['id_156', 7.6622538407414575]\n['id_157', 36.198094998864555]\n['id_158', 11.100703676611577]\n['id_159', 18.550152773504447]\n['id_160', 41.51260388474076]\n['id_161', 19.4273434610516]\n['id_162', 13.335626667050029]\n['id_163', 7.901129660453]\n['id_164', 52.73695103558877]\n['id_165', 31.14607502347662]\n['id_166', -0.18643118066717257]\n['id_167', 16.354257904820837]\n['id_168', 63.878922399290836]\n['id_169', 14.224772841940172]\n['id_170', 63.615486823883096]\n['id_171', 39.477215689446254]\n['id_172', 26.88667290959803]\n['id_173', 20.563355345286038]\n['id_174', 60.98884157740797]\n['id_175', 25.401619515046942]\n['id_176', 20.826772533046793]\n['id_177', 37.62971624345109]\n['id_178', 12.527013294512647]\n['id_179', 30.97535678363363]\n['id_180', 16.76961186203617]\n['id_181', 12.054958704644815]\n['id_182', 55.62794466830009]\n['id_183', 46.31509082493622]\n['id_184', 15.726464667171657]\n['id_185', 34.97431871864825]\n['id_186', 26.22239645547431]\n['id_187', 69.18044421245752]\n['id_188', 10.154641560591024]\n['id_189', 57.816764658193094]\n['id_190', 38.68720919709766]\n['id_191', 15.691170789793315]\n['id_192', 28.975000170182774]\n['id_193', 0.35523792925615894]\n['id_194', 19.22154617383619]\n['id_195', 0.9910368374452201]\n['id_196', 33.81797365881261]\n['id_197', 10.653573446206188]\n['id_198', 19.449443023822987]\n['id_199', 60.297958572079835]\n['id_200', 25.002772798644678]\n['id_201', 24.942102392494025]\n['id_202', 64.48182241405661]\n['id_203', 10.377644984058545]\n['id_204', 9.408959141772527]\n['id_205', 11.304652872976014]\n['id_206', 7.33498249455714]\n['id_207', 1.7717482610225646]\n['id_208', 124.0467892792575]\n['id_209', 20.935491075875007]\n['id_210', 16.52960758868127]\n['id_211', 13.952136499825802]\n['id_212', 36.45784293967324]\n['id_213', 36.01164559267643]\n['id_214', 18.772554309812776]\n['id_215', 34.829882013415705]\n['id_216', 78.9272280714342]\n['id_217', 0.44724312520635623]\n['id_218', 12.936685534416634]\n['id_219', 32.06567594527989]\n['id_220', 14.905517678844685]\n['id_221', 12.76924758995015]\n['id_222', 113.27038071467933]\n['id_223', 13.026238887632687]\n['id_224', 16.61190835929772]\n['id_225', 64.13036432884336]\n['id_226', 16.60783167042725]\n['id_227', 20.44206320536471]\n['id_228', 10.345595891895883]\n['id_229', 3.4811905973634216]\n['id_230', 46.124104489323486]\n['id_231', 12.64656002270939]\n['id_232', 54.04740040468957]\n['id_233', 42.86485084812046]\n['id_234', 25.22069451613857]\n['id_235', 41.029056712696715]\n['id_236', 69.28597215880677]\n['id_237', 42.33280387287735]\n['id_238', 11.137760015444858]\n['id_239', 18.287560831144607]\n"
     ]
    }
   ],
   "source": [
    "import csv\n",
    "with open('submit.csv', mode='w', newline='') as submit_file:\n",
    "    csv_writer = csv.writer(submit_file)\n",
    "    header = ['id', 'value']\n",
    "    print(header)\n",
    "    csv_writer.writerow(header)\n",
    "    for i in range(240):\n",
    "        row = ['id_' + str(i), ans_y[i][0]]\n",
    "        csv_writer.writerow(row)\n",
    "        print(row)"
   ]
  },
  {
   "cell_type": "code",
   "execution_count": null,
   "metadata": {},
   "outputs": [],
   "source": []
  }
 ]
}